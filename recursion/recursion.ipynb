{
 "cells": [
  {
   "cell_type": "markdown",
   "metadata": {},
   "source": [
    "When you call a function in Python, the interpreter creates a new local namespace so that names defined within that function don’t collide with identical names defined elsewhere. One function can call another, and even if they both define objects with the same name, it all works out fine because those objects exist in separate namespaces.\n",
    "\n",
    "The same holds true if multiple instances of the same function are running concurrently. For example, consider the following definition:"
   ]
  },
  {
   "cell_type": "code",
   "execution_count": 6,
   "metadata": {},
   "outputs": [],
   "source": [
    "def function():\n",
    "    x = 10\n",
    "    function()"
   ]
  },
  {
   "cell_type": "markdown",
   "metadata": {},
   "source": [
    "When **function()** executes the first time, Python creates a namespace and assigns **x** the value **10** in that namespace. Then **function()** calls itself recursively. The second time **function()** runs, the interpreter creates a second namespace and assigns **10 to x** there as well. These two instances of the name **x** are distinct from each another and can coexist without clashing because they are in separate namespaces.\n",
    "\n",
    "Unfortunately, running **function()** as it stands produces a result that is less than inspiring, as the following traceback shows:"
   ]
  },
  {
   "cell_type": "code",
   "execution_count": 7,
   "metadata": {},
   "outputs": [
    {
     "ename": "RecursionError",
     "evalue": "maximum recursion depth exceeded",
     "output_type": "error",
     "traceback": [
      "\u001b[1;31m---------------------------------------------------------------------------\u001b[0m",
      "\u001b[1;31mRecursionError\u001b[0m                            Traceback (most recent call last)",
      "\u001b[1;32mc:\\Users\\anav\\OneDrive\\Desktop\\pythonlearning\\recursion\\recursion.ipynb Cell 4\u001b[0m in \u001b[0;36m<cell line: 1>\u001b[1;34m()\u001b[0m\n\u001b[1;32m----> <a href='vscode-notebook-cell:/c%3A/Users/anav/OneDrive/Desktop/pythonlearning/recursion/recursion.ipynb#W5sZmlsZQ%3D%3D?line=0'>1</a>\u001b[0m function()\n",
      "\u001b[1;32mc:\\Users\\anav\\OneDrive\\Desktop\\pythonlearning\\recursion\\recursion.ipynb Cell 4\u001b[0m in \u001b[0;36mfunction\u001b[1;34m()\u001b[0m\n\u001b[0;32m      <a href='vscode-notebook-cell:/c%3A/Users/anav/OneDrive/Desktop/pythonlearning/recursion/recursion.ipynb#W5sZmlsZQ%3D%3D?line=0'>1</a>\u001b[0m \u001b[39mdef\u001b[39;00m \u001b[39mfunction\u001b[39m():\n\u001b[0;32m      <a href='vscode-notebook-cell:/c%3A/Users/anav/OneDrive/Desktop/pythonlearning/recursion/recursion.ipynb#W5sZmlsZQ%3D%3D?line=1'>2</a>\u001b[0m     x \u001b[39m=\u001b[39m \u001b[39m10\u001b[39m\n\u001b[1;32m----> <a href='vscode-notebook-cell:/c%3A/Users/anav/OneDrive/Desktop/pythonlearning/recursion/recursion.ipynb#W5sZmlsZQ%3D%3D?line=2'>3</a>\u001b[0m     function()\n",
      "\u001b[1;32mc:\\Users\\anav\\OneDrive\\Desktop\\pythonlearning\\recursion\\recursion.ipynb Cell 4\u001b[0m in \u001b[0;36mfunction\u001b[1;34m()\u001b[0m\n\u001b[0;32m      <a href='vscode-notebook-cell:/c%3A/Users/anav/OneDrive/Desktop/pythonlearning/recursion/recursion.ipynb#W5sZmlsZQ%3D%3D?line=0'>1</a>\u001b[0m \u001b[39mdef\u001b[39;00m \u001b[39mfunction\u001b[39m():\n\u001b[0;32m      <a href='vscode-notebook-cell:/c%3A/Users/anav/OneDrive/Desktop/pythonlearning/recursion/recursion.ipynb#W5sZmlsZQ%3D%3D?line=1'>2</a>\u001b[0m     x \u001b[39m=\u001b[39m \u001b[39m10\u001b[39m\n\u001b[1;32m----> <a href='vscode-notebook-cell:/c%3A/Users/anav/OneDrive/Desktop/pythonlearning/recursion/recursion.ipynb#W5sZmlsZQ%3D%3D?line=2'>3</a>\u001b[0m     function()\n",
      "    \u001b[1;31m[... skipping similar frames: function at line 3 (970 times)]\u001b[0m\n",
      "\u001b[1;32mc:\\Users\\anav\\OneDrive\\Desktop\\pythonlearning\\recursion\\recursion.ipynb Cell 4\u001b[0m in \u001b[0;36mfunction\u001b[1;34m()\u001b[0m\n\u001b[0;32m      <a href='vscode-notebook-cell:/c%3A/Users/anav/OneDrive/Desktop/pythonlearning/recursion/recursion.ipynb#W5sZmlsZQ%3D%3D?line=0'>1</a>\u001b[0m \u001b[39mdef\u001b[39;00m \u001b[39mfunction\u001b[39m():\n\u001b[0;32m      <a href='vscode-notebook-cell:/c%3A/Users/anav/OneDrive/Desktop/pythonlearning/recursion/recursion.ipynb#W5sZmlsZQ%3D%3D?line=1'>2</a>\u001b[0m     x \u001b[39m=\u001b[39m \u001b[39m10\u001b[39m\n\u001b[1;32m----> <a href='vscode-notebook-cell:/c%3A/Users/anav/OneDrive/Desktop/pythonlearning/recursion/recursion.ipynb#W5sZmlsZQ%3D%3D?line=2'>3</a>\u001b[0m     function()\n",
      "\u001b[1;31mRecursionError\u001b[0m: maximum recursion depth exceeded"
     ]
    }
   ],
   "source": [
    "function()"
   ]
  },
  {
   "cell_type": "markdown",
   "metadata": {},
   "source": [
    "`Traceback (most recent call last):\n",
    "\n",
    "  File \"<pyshell#2>\", line 1, in <module>\n",
    "\n",
    "    function()\n",
    "\n",
    "  File \"<pyshell#1>\", line 3, in function\n",
    "\n",
    "    function()\n",
    "\n",
    "  File \"<pyshell#1>\", line 3, in function\n",
    "\n",
    "    function()\n",
    "\n",
    "  File \"<pyshell#1>\", line 3, in function\n",
    "\n",
    "    function()\n",
    "\n",
    "  [Previous line repeated 1022 more times]\n",
    "  \n",
    "RecursionError: maximum recursion depth exceeded`"
   ]
  },
  {
   "cell_type": "code",
   "execution_count": 7,
   "metadata": {},
   "outputs": [
    {
     "data": {
      "text/plain": [
       "3000"
      ]
     },
     "execution_count": 7,
     "metadata": {},
     "output_type": "execute_result"
    }
   ],
   "source": [
    "from sys import getrecursionlimit\n",
    "\n",
    "getrecursionlimit()"
   ]
  },
  {
   "cell_type": "code",
   "execution_count": 6,
   "metadata": {},
   "outputs": [],
   "source": [
    "from sys import setrecursionlimit\n",
    "\n",
    "setrecursionlimit(3000)"
   ]
  },
  {
   "cell_type": "code",
   "execution_count": 18,
   "metadata": {},
   "outputs": [
    {
     "name": "stdout",
     "output_type": "stream",
     "text": [
      "5\n",
      "4\n",
      "3\n",
      "2\n",
      "1\n"
     ]
    }
   ],
   "source": [
    "# Countdown with while loop\n",
    "\n",
    "def countdown(n):\n",
    "    while n != 0:\n",
    "        print(n)\n",
    "        n -= 1\n",
    "\n",
    "countdown(5)"
   ]
  },
  {
   "cell_type": "code",
   "execution_count": 6,
   "metadata": {},
   "outputs": [
    {
     "name": "stdout",
     "output_type": "stream",
     "text": [
      "5\n",
      "4\n",
      "3\n",
      "2\n",
      "1\n"
     ]
    }
   ],
   "source": [
    "# Countdown with recursion\n",
    "def countdown(n):\n",
    "    if n == 0:\n",
    "        return\n",
    "    else:\n",
    "        print(n)\n",
    "        countdown(n-1)\n",
    "\n",
    "countdown(5)"
   ]
  },
  {
   "cell_type": "code",
   "execution_count": 14,
   "metadata": {},
   "outputs": [
    {
     "name": "stdout",
     "output_type": "stream",
     "text": [
      "5\n",
      "4\n",
      "3\n",
      "2\n",
      "1\n"
     ]
    }
   ],
   "source": [
    "# Countdown with recursion\n",
    "def countdown(n):\n",
    "    print(n)\n",
    "    if n > 1:\n",
    "        countdown(n-1)\n",
    "\n",
    "countdown(5)"
   ]
  },
  {
   "cell_type": "code",
   "execution_count": 7,
   "metadata": {},
   "outputs": [
    {
     "data": {
      "text/plain": [
       "1"
      ]
     },
     "execution_count": 7,
     "metadata": {},
     "output_type": "execute_result"
    }
   ],
   "source": [
    "def factorial(n):\n",
    "    if n <= 1:\n",
    "        return 1\n",
    "    return n * factorial(n-1)\n",
    "factorial(0)"
   ]
  },
  {
   "cell_type": "markdown",
   "metadata": {},
   "source": [
    "# Speed comaprison of factorial implementation"
   ]
  },
  {
   "cell_type": "markdown",
   "metadata": {},
   "source": [
    "`timeit(<command>, setup=<setup_string>, number=<iterations>)`\n",
    "\n",
    "**timeit**() first executes the commands contained in the specified `<setup_string>`. Then it executes `<command>` the given number of `<iterations>` and reports the cumulative execution time in seconds:"
   ]
  },
  {
   "cell_type": "code",
   "execution_count": 8,
   "metadata": {},
   "outputs": [],
   "source": [
    "from timeit import timeit"
   ]
  },
  {
   "cell_type": "code",
   "execution_count": null,
   "metadata": {},
   "outputs": [],
   "source": [
    "timeit(\"print(string)\", setup = \"string = 'gurgaon'\", number=100)"
   ]
  },
  {
   "cell_type": "code",
   "execution_count": 13,
   "metadata": {},
   "outputs": [
    {
     "name": "stdout",
     "output_type": "stream",
     "text": [
      "Recursive:\n"
     ]
    },
    {
     "data": {
      "text/plain": [
       "6.255893300000025"
      ]
     },
     "execution_count": 13,
     "metadata": {},
     "output_type": "execute_result"
    }
   ],
   "source": [
    "setup_string = \"\"\"\n",
    "print(\"Recursive:\")\n",
    "def factorial(n):\n",
    "    return 1 if n <= 1 else n * factorial(n - 1)\n",
    "\"\"\"\n",
    "\n",
    "timeit(\"factorial(4)\", setup=setup_string, number=10000000)"
   ]
  },
  {
   "cell_type": "code",
   "execution_count": 15,
   "metadata": {},
   "outputs": [
    {
     "name": "stdout",
     "output_type": "stream",
     "text": [
      "Iterative:\n"
     ]
    },
    {
     "data": {
      "text/plain": [
       "7.103341999999884"
      ]
     },
     "execution_count": 15,
     "metadata": {},
     "output_type": "execute_result"
    }
   ],
   "source": [
    "setup_string = \"\"\"\n",
    "print(\"Iterative:\")\n",
    "def factorial(n):\n",
    "    return_value = 1\n",
    "    for i in range(2, n + 1):\n",
    "        return_value *= i\n",
    "    return return_value\n",
    "\"\"\"\n",
    "\n",
    "from timeit import timeit\n",
    "timeit(\"factorial(4)\", setup=setup_string, number=10000000)"
   ]
  },
  {
   "cell_type": "code",
   "execution_count": 17,
   "metadata": {},
   "outputs": [
    {
     "data": {
      "text/plain": [
       "0.42972569999983534"
      ]
     },
     "execution_count": 17,
     "metadata": {},
     "output_type": "execute_result"
    }
   ],
   "source": [
    "setup_string = \"from math import factorial\"\n",
    "\n",
    "from timeit import timeit\n",
    "timeit(\"factorial(4)\", setup=setup_string, number=10000000)"
   ]
  }
 ],
 "metadata": {
  "kernelspec": {
   "display_name": "Python 3.9.1 64-bit",
   "language": "python",
   "name": "python3"
  },
  "language_info": {
   "codemirror_mode": {
    "name": "ipython",
    "version": 3
   },
   "file_extension": ".py",
   "mimetype": "text/x-python",
   "name": "python",
   "nbconvert_exporter": "python",
   "pygments_lexer": "ipython3",
   "version": "3.9.1"
  },
  "orig_nbformat": 4,
  "vscode": {
   "interpreter": {
    "hash": "a6d9e1e5af314454664958de1462b508bf7f71cd8eaaa039f9b58889150d096a"
   }
  }
 },
 "nbformat": 4,
 "nbformat_minor": 2
}
