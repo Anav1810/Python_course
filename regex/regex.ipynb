{
 "cells": [
  {
   "cell_type": "code",
   "execution_count": 9,
   "metadata": {},
   "outputs": [],
   "source": [
    "import re"
   ]
  },
  {
   "cell_type": "markdown",
   "metadata": {},
   "source": [
    "# Specify pattern using regex"
   ]
  },
  {
   "cell_type": "markdown",
   "metadata": {},
   "source": [
    "To specify regular expressions, metacharacters are used. In the above example, **^** and **$** are metacharacters."
   ]
  },
  {
   "cell_type": "markdown",
   "metadata": {},
   "source": [
    "## Meta-characters"
   ]
  },
  {
   "cell_type": "markdown",
   "metadata": {},
   "source": [
    "Metacharacters are characters that are interpreted in a special way by a RegEx engine. Here's a list of metacharacters:\n",
    "\n",
    "**`[] . ^ $ * + ? {} () \\ |`**"
   ]
  },
  {
   "cell_type": "markdown",
   "metadata": {},
   "source": [
    "### [] - Square brackets"
   ]
  },
  {
   "cell_type": "markdown",
   "metadata": {},
   "source": [
    "Square brackets specify a set of characters you wish to match"
   ]
  },
  {
   "cell_type": "code",
   "execution_count": 11,
   "metadata": {},
   "outputs": [
    {
     "data": {
      "text/plain": [
       "<re.Match object; span=(0, 1), match='a'>"
      ]
     },
     "execution_count": 11,
     "metadata": {},
     "output_type": "execute_result"
    }
   ],
   "source": [
    "txt = \"a\"\n",
    "pattern = \"[a]\"\n",
    "re.match(pattern, txt)"
   ]
  },
  {
   "cell_type": "code",
   "execution_count": 13,
   "metadata": {},
   "outputs": [
    {
     "data": {
      "text/plain": [
       "<re.Match object; span=(0, 1), match='a'>"
      ]
     },
     "execution_count": 13,
     "metadata": {},
     "output_type": "execute_result"
    }
   ],
   "source": [
    "txt = \"a\"\n",
    "pattern = \"[abc]\"\n",
    "re.match(pattern, txt)"
   ]
  },
  {
   "cell_type": "code",
   "execution_count": 16,
   "metadata": {},
   "outputs": [
    {
     "data": {
      "text/plain": [
       "['a', 'c']"
      ]
     },
     "execution_count": 16,
     "metadata": {},
     "output_type": "execute_result"
    }
   ],
   "source": [
    "txt = \"ac\"\n",
    "pattern = \"[abc]\"\n",
    "re.findall(pattern, txt)"
   ]
  },
  {
   "cell_type": "code",
   "execution_count": 18,
   "metadata": {},
   "outputs": [
    {
     "data": {
      "text/plain": [
       "['a', 'a']"
      ]
     },
     "execution_count": 18,
     "metadata": {},
     "output_type": "execute_result"
    }
   ],
   "source": [
    "txt = \"hey anav\"\n",
    "pattern = \"[abc]\"\n",
    "re.findall(pattern, txt)"
   ]
  },
  {
   "cell_type": "code",
   "execution_count": 21,
   "metadata": {},
   "outputs": [
    {
     "data": {
      "text/plain": [
       "[]"
      ]
     },
     "execution_count": 21,
     "metadata": {},
     "output_type": "execute_result"
    }
   ],
   "source": [
    "txt = \"hey ANAV\"\n",
    "pattern = \"[abc]\"\n",
    "re.findall(pattern, txt)"
   ]
  },
  {
   "cell_type": "code",
   "execution_count": 31,
   "metadata": {},
   "outputs": [
    {
     "data": {
      "text/plain": [
       "['h',\n",
       " 'e',\n",
       " 'y',\n",
       " 'q',\n",
       " 'w',\n",
       " 'e',\n",
       " 'r',\n",
       " 't',\n",
       " 'y',\n",
       " 'u',\n",
       " 'i',\n",
       " 'o',\n",
       " 'p',\n",
       " 'a',\n",
       " 's',\n",
       " 'd',\n",
       " 'f',\n",
       " 'g',\n",
       " 'h',\n",
       " 'j',\n",
       " 'k',\n",
       " 'l',\n",
       " 'z',\n",
       " 'x',\n",
       " 'c',\n",
       " 'v',\n",
       " 'b',\n",
       " 'n',\n",
       " 'm']"
      ]
     },
     "execution_count": 31,
     "metadata": {},
     "output_type": "execute_result"
    }
   ],
   "source": [
    "txt = \"hey qwertyuiopasdfghjklzxcvbnm767543543657687:,><>/>.><6\"\n",
    "pattern = \"[a-z]\"\n",
    "re.findall(pattern, txt)"
   ]
  },
  {
   "cell_type": "code",
   "execution_count": 36,
   "metadata": {},
   "outputs": [
    {
     "data": {
      "text/plain": [
       "['36', '57', '68']"
      ]
     },
     "execution_count": 36,
     "metadata": {},
     "output_type": "execute_result"
    }
   ],
   "source": [
    "txt = \"hey qweryuklzxcv3657687:,>.><6\"\n",
    "pattern = \"[0-9][0-9]\"\n",
    "re.findall(pattern, txt)"
   ]
  },
  {
   "cell_type": "code",
   "execution_count": 42,
   "metadata": {},
   "outputs": [
    {
     "data": {
      "text/plain": [
       "['anav@gmail.com']"
      ]
     },
     "execution_count": 42,
     "metadata": {},
     "output_type": "execute_result"
    }
   ],
   "source": [
    "txt = \"anav@gmail.com\"\n",
    "pattern = \"[a-z][a-z][a-z][a-z]@[a-z][a-z][a-z][a-z][a-z].[a-z][a-z][a-z]\"\n",
    "re.findall(pattern, txt)"
   ]
  },
  {
   "cell_type": "code",
   "execution_count": 43,
   "metadata": {},
   "outputs": [
    {
     "data": {
      "text/plain": [
       "['h',\n",
       " 'e',\n",
       " 'y',\n",
       " ' ',\n",
       " 'q',\n",
       " 'w',\n",
       " 'e',\n",
       " 'r',\n",
       " 'y',\n",
       " 'u',\n",
       " 'k',\n",
       " 'l',\n",
       " 'z',\n",
       " 'x',\n",
       " 'c',\n",
       " 'v',\n",
       " ':',\n",
       " ',',\n",
       " '>',\n",
       " '.',\n",
       " '>',\n",
       " '<']"
      ]
     },
     "execution_count": 43,
     "metadata": {},
     "output_type": "execute_result"
    }
   ],
   "source": [
    "txt = \"hey qweryuklzxcv3657687:,>.><6\"\n",
    "pattern = \"[^0-9]\" # carrat is used to complement the chracter set\n",
    "re.findall(pattern, txt)"
   ]
  },
  {
   "cell_type": "markdown",
   "metadata": {},
   "source": [
    "### . - Period"
   ]
  },
  {
   "cell_type": "markdown",
   "metadata": {},
   "source": [
    "A period matches any single character (except newline \"\\n\")"
   ]
  },
  {
   "cell_type": "code",
   "execution_count": 48,
   "metadata": {},
   "outputs": [
    {
     "data": {
      "text/plain": [
       "['hello anav']"
      ]
     },
     "execution_count": 48,
     "metadata": {},
     "output_type": "execute_result"
    }
   ],
   "source": [
    "txt = \"hello anav\"\n",
    "pattern = \"hello.....\"\n",
    "re.findall(pattern, txt)"
   ]
  },
  {
   "cell_type": "markdown",
   "metadata": {},
   "source": [
    "### ^ - Caret"
   ]
  },
  {
   "cell_type": "markdown",
   "metadata": {},
   "source": [
    "The caret symbol is used to check if a string starts with a certain character"
   ]
  },
  {
   "cell_type": "code",
   "execution_count": 51,
   "metadata": {},
   "outputs": [
    {
     "data": {
      "text/plain": [
       "['Ro']"
      ]
     },
     "execution_count": 51,
     "metadata": {},
     "output_type": "execute_result"
    }
   ],
   "source": [
    "txt = \"Roll no: 21\"\n",
    "pattern = \"^Ro\"\n",
    "re.findall(pattern, txt)"
   ]
  },
  {
   "cell_type": "code",
   "execution_count": 54,
   "metadata": {},
   "outputs": [
    {
     "name": "stdout",
     "output_type": "stream",
     "text": [
      "Pattern found\n"
     ]
    }
   ],
   "source": [
    "txt = \"Roll no: 21\"\n",
    "pattern = \"^Roll no\"\n",
    "if re.findall(pattern, txt):\n",
    "    print(\"Pattern found\")\n",
    "else:\n",
    "    print(\"Pattern not found\")"
   ]
  },
  {
   "cell_type": "markdown",
   "metadata": {},
   "source": [
    "### $ - Dollar"
   ]
  },
  {
   "cell_type": "markdown",
   "metadata": {},
   "source": [
    "The dollar symbol is used to check if a string ends with a certain character"
   ]
  },
  {
   "cell_type": "code",
   "execution_count": 56,
   "metadata": {},
   "outputs": [
    {
     "data": {
      "text/plain": [
       "['21']"
      ]
     },
     "execution_count": 56,
     "metadata": {},
     "output_type": "execute_result"
    }
   ],
   "source": [
    "txt = \"Roll no: 21\"\n",
    "pattern = \"21$\"\n",
    "re.findall(pattern, txt)"
   ]
  },
  {
   "cell_type": "code",
   "execution_count": 60,
   "metadata": {},
   "outputs": [
    {
     "data": {
      "text/plain": [
       "['78']"
      ]
     },
     "execution_count": 60,
     "metadata": {},
     "output_type": "execute_result"
    }
   ],
   "source": [
    "txt = \"Roll no: 78\"\n",
    "pattern = \"[0-9][0-9]$\"\n",
    "re.findall(pattern, txt)"
   ]
  },
  {
   "cell_type": "code",
   "execution_count": 62,
   "metadata": {},
   "outputs": [
    {
     "data": {
      "text/plain": [
       "['88']"
      ]
     },
     "execution_count": 62,
     "metadata": {},
     "output_type": "execute_result"
    }
   ],
   "source": [
    "txt = \"Roll no: 788\"\n",
    "pattern = \"[0-9][0-9]$\"\n",
    "re.findall(pattern, txt)"
   ]
  },
  {
   "cell_type": "code",
   "execution_count": 64,
   "metadata": {},
   "outputs": [
    {
     "data": {
      "text/plain": [
       "[]"
      ]
     },
     "execution_count": 64,
     "metadata": {},
     "output_type": "execute_result"
    }
   ],
   "source": [
    "txt = \"Roll no: 8\"\n",
    "pattern = \"[0-9][0-9]$\"\n",
    "re.findall(pattern, txt)"
   ]
  },
  {
   "cell_type": "code",
   "execution_count": 66,
   "metadata": {},
   "outputs": [
    {
     "data": {
      "text/plain": [
       "['8432324']"
      ]
     },
     "execution_count": 66,
     "metadata": {},
     "output_type": "execute_result"
    }
   ],
   "source": [
    "txt = \"Roll no: 854654\"\n",
    "pattern = \"[0-9]+$\"\n",
    "re.findall(pattern, txt)"
   ]
  }
 ],
 "metadata": {
  "kernelspec": {
   "display_name": "Python 3.9.1 64-bit",
   "language": "python",
   "name": "python3"
  },
  "language_info": {
   "codemirror_mode": {
    "name": "ipython",
    "version": 3
   },
   "file_extension": ".py",
   "mimetype": "text/x-python",
   "name": "python",
   "nbconvert_exporter": "python",
   "pygments_lexer": "ipython3",
   "version": "3.9.1"
  },
  "orig_nbformat": 4,
  "vscode": {
   "interpreter": {
    "hash": "a6d9e1e5af314454664958de1462b508bf7f71cd8eaaa039f9b58889150d096a"
   }
  }
 },
 "nbformat": 4,
 "nbformat_minor": 2
}
