{
  "nbformat": 4,
  "nbformat_minor": 0,
  "metadata": {
    "colab": {
      "name": "python_sessions.ipynb",
      "provenance": [],
      "collapsed_sections": [],
      "authorship_tag": "ABX9TyN08t+mLdlDaARgXYtYrygS",
      "include_colab_link": true
    },
    "kernelspec": {
      "name": "python3",
      "display_name": "Python 3"
    },
    "language_info": {
      "name": "python"
    }
  },
  "cells": [
    {
      "cell_type": "markdown",
      "metadata": {
        "id": "view-in-github",
        "colab_type": "text"
      },
      "source": [
        "<a href=\"https://colab.research.google.com/github/Anav1810/Python_course/blob/main/python_sessions.ipynb\" target=\"_parent\"><img src=\"https://colab.research.google.com/assets/colab-badge.svg\" alt=\"Open In Colab\"/></a>"
      ]
    },
    {
      "cell_type": "markdown",
      "source": [
        "# Virtual Environment"
      ],
      "metadata": {
        "id": "_dP-koQyjm7c"
      }
    },
    {
      "cell_type": "markdown",
      "source": [
        "**What is a Virtual Environment?**\n",
        "\n",
        "A virtual environment is a Python environment such that the Python interpreter, libraries and scripts installed into it are isolated from those installed in other virtual environments, and (by default) any libraries installed in a “system” Python, i.e., one which is installed as part of your operating system."
      ],
      "metadata": {
        "id": "eSLJci1Zj4A5"
      }
    },
    {
      "cell_type": "markdown",
      "source": [
        "**Why we create a VENV?**\n",
        "\n",
        "Virtual Environment is created when we don't want Libraries (and their dependencies) of one project in our system to interfere with Libraries of other project in our system.\n",
        "\n",
        "For example We have two projects in our system:\n",
        "\n",
        "Project 1: Resume Parser\n",
        "\n",
        "Project 2: JD Matcher\n",
        "\n",
        "Both of these projects require open source Numpy package but the version that they require is different. So that will create a clash between two projects. \n",
        "\n",
        "So the best way to avoid such clashes is to create two seperate virtual environments for these two projects and install corresponding dependecies in respective VENVs."
      ],
      "metadata": {
        "id": "U6YmpgrVkbq0"
      }
    },
    {
      "cell_type": "markdown",
      "source": [
        "**How we create a VENV?**\n",
        "\n",
        "`python3 -m venv /path/to/new/virtual/environment`"
      ],
      "metadata": {
        "id": "I_B_TFMAkHSO"
      }
    },
    {
      "cell_type": "markdown",
      "source": [
        "**How we invoke Virtual Environment?**\n",
        "\n",
        "On Windows, invoke the venv command as follows:\n",
        "\n",
        "`.\\envname\\Scripts\\activate`\n",
        "\n",
        "On Linux (Ubuntu) use this command:\n",
        "\n",
        "`source myenv/bin/activate`"
      ],
      "metadata": {
        "id": "ALzJwYCimVnh"
      }
    },
    {
      "cell_type": "markdown",
      "source": [
        "**How to create requirements.txt**\n",
        "\n",
        "To make a list of all the modules a Venv has, use:\n",
        "\n",
        "`pip freeze > requirements.txt`"
      ],
      "metadata": {
        "id": "soAxRnIrc4eA"
      }
    },
    {
      "cell_type": "markdown",
      "source": [
        "**To deactivate Virtual Environment**\n",
        "\n",
        "`deactivate`"
      ],
      "metadata": {
        "id": "DjmF61vRmjxR"
      }
    },
    {
      "cell_type": "markdown",
      "source": [
        "[Virtual Environment Documentation](https://docs.python.org/3/library/venv.html)"
      ],
      "metadata": {
        "id": "o24mVfr0m8zc"
      }
    },
    {
      "cell_type": "markdown",
      "source": [
        "# List comprehension"
      ],
      "metadata": {
        "id": "iBVTvVquqj-6"
      }
    },
    {
      "cell_type": "code",
      "source": [
        "# Sort two list on the basis of first\n",
        "# Sorting with Zip and List comprehensions\n",
        "l1 = [5, 4, 1, 3, 0]\n",
        "l2 = [\"str1\", \"str2\", \"str3\", \"str4\", \"str5\"]"
      ],
      "metadata": {
        "id": "M4U8ei6DqrVF"
      },
      "execution_count": null,
      "outputs": []
    },
    {
      "cell_type": "code",
      "source": [
        "l2 = [ j for i,j in sorted(zip(l1,l2))]\n",
        "print(l2)"
      ],
      "metadata": {
        "colab": {
          "base_uri": "https://localhost:8080/"
        },
        "id": "fszwaRSfrB8j",
        "outputId": "46d343d3-940a-4114-db76-c970e64ba936"
      },
      "execution_count": null,
      "outputs": [
        {
          "output_type": "stream",
          "name": "stdout",
          "text": [
            "['str1', 'str4', 'str2', 'str3', 'str5']\n"
          ]
        }
      ]
    }
  ]
}