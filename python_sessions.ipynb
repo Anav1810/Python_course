{
  "nbformat": 4,
  "nbformat_minor": 0,
  "metadata": {
    "colab": {
      "name": "python_sessions.ipynb",
      "provenance": [],
      "collapsed_sections": [],
      "authorship_tag": "ABX9TyNHBmkVPMcG3kuFS4qhO0ch",
      "include_colab_link": true
    },
    "kernelspec": {
      "name": "python3",
      "display_name": "Python 3"
    },
    "language_info": {
      "name": "python"
    }
  },
  "cells": [
    {
      "cell_type": "markdown",
      "metadata": {
        "id": "view-in-github",
        "colab_type": "text"
      },
      "source": [
        "<a href=\"https://colab.research.google.com/github/Anav1810/Python_course/blob/main/python_sessions.ipynb\" target=\"_parent\"><img src=\"https://colab.research.google.com/assets/colab-badge.svg\" alt=\"Open In Colab\"/></a>"
      ]
    },
    {
      "cell_type": "markdown",
      "source": [
        "# Virtual Environment"
      ],
      "metadata": {
        "id": "_dP-koQyjm7c"
      }
    },
    {
      "cell_type": "markdown",
      "source": [
        "**What is a Virtual Environment?**\n",
        "\n",
        "A virtual environment is a Python environment such that the Python interpreter, libraries and scripts installed into it are isolated from those installed in other virtual environments, and (by default) any libraries installed in a “system” Python, i.e., one which is installed as part of your operating system."
      ],
      "metadata": {
        "id": "eSLJci1Zj4A5"
      }
    },
    {
      "cell_type": "markdown",
      "source": [
        "**Why we create a VENV?**\n",
        "\n",
        "Virtual Environment is created when we don't want Libraries (and their dependencies) of one project in our system to interfere with Libraries of other project in our system.\n",
        "\n",
        "For example We have two projects in our system:\n",
        "\n",
        "Project 1: Resume Parser\n",
        "\n",
        "Project 2: JD Matcher\n",
        "\n",
        "Both of these projects require open source Numpy package but the version that they require is different. So that will create a clash between two projects. \n",
        "\n",
        "So the best way to avoid such clashes is to create two seperate virtual environments for these two projects and install corresponding dependecies in respective VENVs."
      ],
      "metadata": {
        "id": "U6YmpgrVkbq0"
      }
    },
    {
      "cell_type": "markdown",
      "source": [
        "**How we create a VENV?**\n",
        "\n",
        "`python3 -m venv /path/to/new/virtual/environment`"
      ],
      "metadata": {
        "id": "I_B_TFMAkHSO"
      }
    },
    {
      "cell_type": "markdown",
      "source": [
        "**How we invoke Virtual Environment?**\n",
        "\n",
        "On Windows, invoke the venv command as follows:\n",
        "\n",
        "`.\\envname\\Scripts\\activate`\n",
        "\n",
        "On Linux (Ubuntu) use this command:\n",
        "\n",
        "`source myenv/bin/activate`"
      ],
      "metadata": {
        "id": "ALzJwYCimVnh"
      }
    },
    {
      "cell_type": "markdown",
      "source": [
        "**To deactivate Virtual Environment**\n",
        "\n",
        "`deactivate`"
      ],
      "metadata": {
        "id": "DjmF61vRmjxR"
      }
    },
    {
      "cell_type": "markdown",
      "source": [
        "[Virtual Environment Documentation](https://docs.python.org/3/library/venv.html)"
      ],
      "metadata": {
        "id": "o24mVfr0m8zc"
      }
    }
  ]
}