{
  "cells": [
    {
      "cell_type": "markdown",
      "metadata": {
        "id": "xPfZmlgJoCF5"
      },
      "source": [
        "# What is a Process and a Thread. What are the differences?"
      ]
    },
    {
      "cell_type": "markdown",
      "metadata": {
        "id": "Nv8kYPbTn-zH"
      },
      "source": [
        "A **process** is an instance of program (e.g. Jupyter notebook, Python interpreter). Processes spawn **threads** (sub-processes) to handle subtasks like reading keystrokes, loading HTML pages, saving files. Threads live inside processes and share the same memory space.\n",
        "\n",
        "**Example: Microsoft Word**<br>\n",
        "When you open **Word**, you create a process. When you start typing, the process spawns threads: one to read keystrokes, another to display text, one to autosave your file, and yet another to highlight spelling mistakes. By spawning multiple threads, Microsoft takes advantage of idle CPU time (waiting for keystrokes or files to load) and makes you more productive. See it like this: When one thread is waiting for key stroke, another thread is auto-saving while one other thread is displaying spelling error.\n",
        "\n",
        "Process\n",
        "* Created by the operating system to run programs\n",
        "* Processes can have multiple threads\n",
        "* Two processes can execute code simultaneously in the same python program\n",
        "* Processes have more overhead than threads as opening and closing processes takes more time\n",
        "* Sharing information between processes is slower than sharing between threads as processes do not share memory space. In python they share information by pickling data structures like arrays which requires IO time.\n",
        "\n",
        "Thread\n",
        "* Threads are like mini-processes that live inside a process\n",
        "* They share memory space and efficiently read and write to the same variables\n",
        "* Two threads cannot execute code simultaneously in the same python program (although there are workarounds)"
      ]
    },
    {
      "cell_type": "markdown",
      "metadata": {
        "id": "Uj6TgR6En-zJ"
      },
      "source": [
        "# Are Multiprocessing and Multithreading basically same things in Python : No"
      ]
    },
    {
      "cell_type": "markdown",
      "metadata": {
        "id": "Kn3lzPSk9JhD"
      },
      "source": [
        "We will understand this with code and plots"
      ]
    },
    {
      "cell_type": "code",
      "execution_count": null,
      "metadata": {},
      "outputs": [],
      "source": []
    },
    {
      "cell_type": "code",
      "execution_count": 1,
      "metadata": {
        "id": "ISwMYSuEn-zL"
      },
      "outputs": [
        {
          "ename": "ModuleNotFoundError",
          "evalue": "No module named 'matplotlib'",
          "output_type": "error",
          "traceback": [
            "\u001b[1;31m---------------------------------------------------------------------------\u001b[0m",
            "\u001b[1;31mModuleNotFoundError\u001b[0m                       Traceback (most recent call last)",
            "\u001b[1;32mc:\\Users\\anav\\OneDrive\\Desktop\\pythonlearning\\Multi_threading\\Multiprocessing_vs_Multithreading.ipynb Cell 6\u001b[0m in \u001b[0;36m<cell line: 3>\u001b[1;34m()\u001b[0m\n\u001b[0;32m      <a href='vscode-notebook-cell:/c%3A/Users/anav/OneDrive/Desktop/pythonlearning/Multi_threading/Multiprocessing_vs_Multithreading.ipynb#W5sZmlsZQ%3D%3D?line=0'>1</a>\u001b[0m \u001b[39mimport\u001b[39;00m \u001b[39mtime\u001b[39;00m\n\u001b[0;32m      <a href='vscode-notebook-cell:/c%3A/Users/anav/OneDrive/Desktop/pythonlearning/Multi_threading/Multiprocessing_vs_Multithreading.ipynb#W5sZmlsZQ%3D%3D?line=1'>2</a>\u001b[0m \u001b[39mimport\u001b[39;00m \u001b[39mnumpy\u001b[39;00m \u001b[39mas\u001b[39;00m \u001b[39mnp\u001b[39;00m\n\u001b[1;32m----> <a href='vscode-notebook-cell:/c%3A/Users/anav/OneDrive/Desktop/pythonlearning/Multi_threading/Multiprocessing_vs_Multithreading.ipynb#W5sZmlsZQ%3D%3D?line=2'>3</a>\u001b[0m \u001b[39mimport\u001b[39;00m \u001b[39mmatplotlib\u001b[39;00m\u001b[39m.\u001b[39;00m\u001b[39mpyplot\u001b[39;00m \u001b[39mas\u001b[39;00m \u001b[39mplt\u001b[39;00m\n\u001b[0;32m      <a href='vscode-notebook-cell:/c%3A/Users/anav/OneDrive/Desktop/pythonlearning/Multi_threading/Multiprocessing_vs_Multithreading.ipynb#W5sZmlsZQ%3D%3D?line=3'>4</a>\u001b[0m \u001b[39mfrom\u001b[39;00m \u001b[39mconcurrent\u001b[39;00m\u001b[39m.\u001b[39;00m\u001b[39mfutures\u001b[39;00m \u001b[39mimport\u001b[39;00m ProcessPoolExecutor, ThreadPoolExecutor\n\u001b[0;32m      <a href='vscode-notebook-cell:/c%3A/Users/anav/OneDrive/Desktop/pythonlearning/Multi_threading/Multiprocessing_vs_Multithreading.ipynb#W5sZmlsZQ%3D%3D?line=6'>7</a>\u001b[0m \u001b[39m# Both these functions will call the function \"func\" for each of the arguments in the iterator \"args\". \u001b[39;00m\n\u001b[0;32m      <a href='vscode-notebook-cell:/c%3A/Users/anav/OneDrive/Desktop/pythonlearning/Multi_threading/Multiprocessing_vs_Multithreading.ipynb#W5sZmlsZQ%3D%3D?line=7'>8</a>\u001b[0m \u001b[39m# All the functions (copies of \"func\" fuction) will be executed on either different \u001b[39;00m\n\u001b[0;32m      <a href='vscode-notebook-cell:/c%3A/Users/anav/OneDrive/Desktop/pythonlearning/Multi_threading/Multiprocessing_vs_Multithreading.ipynb#W5sZmlsZQ%3D%3D?line=8'>9</a>\u001b[0m \u001b[39m# threads(in case of multi-threading) or processes (in case of multiprocessing).\u001b[39;00m\n",
            "\u001b[1;31mModuleNotFoundError\u001b[0m: No module named 'matplotlib'"
          ]
        }
      ],
      "source": [
        "import time\n",
        "import numpy as np\n",
        "import matplotlib.pyplot as plt\n",
        "from concurrent.futures import ProcessPoolExecutor, ThreadPoolExecutor\n",
        "\n",
        "\n",
        "# Both these functions will call the function \"func\" for each of the arguments in the iterator \"args\". \n",
        "# All the functions (copies of \"func\" fuction) will be executed on either different \n",
        "# threads(in case of multi-threading) or processes (in case of multiprocessing).\n",
        "def multithreading(func, args, workers):\n",
        "    with ThreadPoolExecutor(workers) as ex:\n",
        "        res = ex.map(func, args)\n",
        "    return list(res)\n",
        "\n",
        "\n",
        "def multiprocessing(func, args, workers):\n",
        "    with ProcessPoolExecutor(workers) as ex:\n",
        "        res = ex.map(func, args)\n",
        "    return list(res)\n",
        "\n",
        "\n",
        "# This is a dummy function which is somewhat CPU heavy. we will execute \n",
        "# it many times using both multi-threading and multi-processing\n",
        "def cpu_heavy(x):\n",
        "    print('I am', x)\n",
        "    start = time.time()\n",
        "    count = 0\n",
        "    for i in range(10**4):\n",
        "        count += i\n",
        "    stop = time.time()\n",
        "    return start, stop\n",
        "\n",
        "\n",
        "def visualize_runtimes(results, title):\n",
        "    start, stop = np.array(results).T\n",
        "    plt.barh(range(len(start)), stop - start)\n",
        "    plt.grid(axis='x')\n",
        "    plt.ylabel(\"Tasks\")\n",
        "    plt.xlabel(\"Seconds\")\n",
        "    plt.xlim(0, 22.5)\n",
        "    ytks = range(len(results))\n",
        "    plt.yticks(ytks, ['job {}'.format(exp) for exp in ytks])\n",
        "    plt.title(title)\n",
        "    return stop[-1] - start[0]\n",
        "\n",
        "\n",
        "print(\"Multithreading\")\n",
        "plt.subplot(1, 2, 1)\n",
        "visualize_runtimes(multithreading(cpu_heavy, range(4), 4), \"Multithreading\")\n",
        "print(\"Multiprocessing\")\n",
        "plt.subplot(1, 2, 2)\n",
        "visualize_runtimes(multiprocessing(cpu_heavy, range(4), 4), \"Multiprocessing\")\n",
        "plt.show()"
      ]
    },
    {
      "cell_type": "markdown",
      "metadata": {
        "id": "uHCXYYoFn-zT"
      },
      "source": [
        "This plot shows that in case of Multithreading, all the jobs had different time of finish. Whereas in Multiprocessing all of them finished around the same time.\n",
        "\n",
        "\n",
        "As expected **Multi-processing is much faster than Multi-threading**. While Multithreading took around 20 seconds, Multiprocessing took much less time.\n",
        "\n",
        "\n",
        "Also note that the print statement in the case of Multi-processing can be jumbeled. This indicates that out of all the processes any one of them can give output to screen first. In case of Multi-threading the outputs can be out of order showing that threads are stopped in between and than started after execution of another thread."
      ]
    },
    {
      "cell_type": "markdown",
      "metadata": {
        "id": "ZvebR1c4n-zU"
      },
      "source": [
        "# Difference between Multiprocessing and Multithreading."
      ]
    },
    {
      "cell_type": "markdown",
      "metadata": {
        "id": "Aec7j6aXn-zV"
      },
      "source": [
        "First let us understand difference between **concurrency** and **parallelism**.\n",
        "\n",
        "Concurrency and parallelism are related terms but not the same, and often misconceived as the similar terms. The crucial difference between concurrency and parallelism is that concurrency is about dealing with a lot of things at same time (gives the illusion of simultaneity) or handling concurrent events essentially hiding latency. On the contrary, parallelism is about doing a lot of things at the same time for increasing the speed."
      ]
    },
    {
      "cell_type": "markdown",
      "metadata": {
        "id": "hTNuf1nrn-zX"
      },
      "source": [
        "Now back to **Multiprocessing** and **Multithreading**.\n",
        "\n",
        "In case of Multithreading, threads neither run in parallel nor in sequence. They run concurrently! Each time one job is executed a little and then the other takes on.\n",
        "\n",
        "Whereas, in case of Multiprocessing actual parallel excecution is taking place and thus enhanced speed."
      ]
    },
    {
      "cell_type": "markdown",
      "metadata": {
        "id": "BR55HDeln-zY"
      },
      "source": [
        "**Let's see that with code to explain better.**"
      ]
    },
    {
      "cell_type": "code",
      "execution_count": null,
      "metadata": {
        "id": "6WLnSZRVn-zZ",
        "outputId": "140b5a7a-e0d0-450f-d44f-b18a2f76ecba"
      },
      "outputs": [
        {
          "name": "stdout",
          "output_type": "stream",
          "text": [
            "Multithreading\n",
            "I amI am 1\n",
            "I am 2\n",
            " 0\n",
            "I am 3\n",
            "Multiprocessing\n",
            "I am 0\n",
            "I am 1\n",
            "I am 2\n",
            "I am 3\n"
          ]
        },
        {
          "data": {
            "image/png": "[encoded data removed]",
            "text/plain": [
              "<Figure size 1080x504 with 2 Axes>"
            ]
          },
          "metadata": {
            "needs_background": "light",
            "tags": []
          },
          "output_type": "display_data"
        }
      ],
      "source": [
        "from pylab import rcParams\n",
        "rcParams['figure.figsize'] = 15, 7\n",
        "\n",
        "# We have changed only these two functions, rest all will be same as above\n",
        "\n",
        "def live_tracker(x):\n",
        "    print('I am', x)\n",
        "    reference = time.time()\n",
        "    l = []\n",
        "    for i in range(10**6):\n",
        "        l.append(time.time() - reference)\n",
        "    return l\n",
        "\n",
        "\n",
        "def visualize_live_runtimes(results, title):\n",
        "    for i, exp in enumerate(results):\n",
        "        plt.scatter(exp, np.ones(len(exp)) * i, alpha=0.8, c='red', edgecolors='none', s=1)\n",
        "\n",
        "    plt.grid(axis='x')\n",
        "    plt.ylabel(\"Tasks\")\n",
        "    ytks = range(len(results))\n",
        "    plt.yticks(ytks, ['job {}'.format(exp) for exp in ytks])\n",
        "    plt.xlabel(\"Seconds\")\n",
        "    plt.title(title)\n",
        "\n",
        "\n",
        "print(\"Multithreading\")\n",
        "plt.subplot(1, 2, 1)\n",
        "visualize_live_runtimes(multithreading(live_tracker, range(4), 4), \"Multithreading\")\n",
        "print(\"Multiprocessing\")\n",
        "plt.subplot(1, 2, 2)\n",
        "visualize_live_runtimes(multiprocessing(live_tracker, range(4), 4), \"Multiprocessing\")\n",
        "plt.show()"
      ]
    },
    {
      "cell_type": "markdown",
      "metadata": {
        "id": "T_i6MDMCn-ze"
      },
      "source": [
        "As you can see, in case of multithreading the jobs are executed concurrently whereas in the case of multiprocessing there is continuous paraller excecution."
      ]
    },
    {
      "cell_type": "markdown",
      "metadata": {
        "id": "4c57pTHZn-zf"
      },
      "source": [
        "So if you have a cpu heavy task, and you want to make it faster use multiprocessing!\n",
        "For example if you have 4 cores, with multithreading each core will be at around 25% capacity while with multiprocessing you will get 100% on each core. This means that with 100% on 4 cores you will get a speedup by 4."
      ]
    },
    {
      "cell_type": "markdown",
      "metadata": {
        "id": "KYsiMd0Vn-zg"
      },
      "source": [
        "# Why Multi-threading doesn't help in Python like other languages?"
      ]
    },
    {
      "cell_type": "markdown",
      "metadata": {
        "id": "vnxl4kSpn-zg"
      },
      "source": [
        "This is because of GIL (Global Interpreter Lock). Because of some memory management [reasons](https://realpython.com/python-gil), GIL was used to avoid conflict when dealing with multiple threads. \n",
        "\n",
        "In python when a thread wants access to the interpreter it has to get hold of GIL which it receives only when its free and not used by any other thread. So in assence, at any given point in time only one thread can get access to the interpreter. \n",
        "\n",
        "And thus we have a plot like above."
      ]
    },
    {
      "cell_type": "markdown",
      "metadata": {
        "id": "8FP-kKsFn-zh"
      },
      "source": [
        "# Where can we use Multi-threading?"
      ]
    },
    {
      "cell_type": "markdown",
      "metadata": {
        "id": "z64kDuWMn-zi"
      },
      "source": [
        "In **IO tasks**.\n",
        "\n",
        "I/O-bound programs are the ones that spend time waiting for Input/Output which can come from a user, file, database, network, etc. \n",
        "I/O-bound programs sometimes have to wait for a significant amount of time till they get what they need from the source due to the fact that the source may need to do its own processing before the input/output is ready, for example, a user thinking about what to enter into an input prompt or a database query running in its own process."
      ]
    },
    {
      "cell_type": "code",
      "execution_count": null,
      "metadata": {
        "id": "aAcsF06gn-zj",
        "outputId": "af184c43-7547-4445-ac93-067c804fbbde"
      },
      "outputs": [
        {
          "name": "stdout",
          "output_type": "stream",
          "text": [
            "Time take by Serial execution:  21.34294080734253\n",
            "Time taken by Multithreading with 4 threads: 6.35723352432251\n",
            "Time taken by Multithreading with 8 threads: 3.400176525115967\n",
            "Time taken by Multithreading with 16 threads: 6.63349723815918\n"
          ]
        }
      ],
      "source": [
        "import urllib.request\n",
        "\n",
        "\n",
        "urls = ['http://www.discovertunisia.com',\n",
        "        'http://whc.unesco.org/en/list/38',\n",
        "        'https://www.youtube.com/watch?v=sHORcz5nqIc',\n",
        "        'https://www.youtube.com/watch?v=dyHjCwKoNn8'\n",
        "        'http://www.tourismtunisia.com/10-adventurous-things-to-do-in-tunisia/',\n",
        "        'http://wowtravel.me/top-10-things-to-do-in-tunisia/',\n",
        "        'http://en.wikipedia.org/wiki/Tataouine',\n",
        "        'http://en.wikipedia.org/wiki/Carthage',\n",
        "        'http://en.wikipedia.org/wiki/Hannibal',\n",
        "        'http://www.discovertunisia.com',\n",
        "        'http://whc.unesco.org/en/list/38',\n",
        "        'https://www.youtube.com/watch?v=sHORcz5nqIc',\n",
        "        'https://www.youtube.com/watch?v=dyHjCwKoNn8'\n",
        "        'http://www.tourismtunisia.com/10-adventurous-things-to-do-in-tunisia/',\n",
        "        'http://wowtravel.me/top-10-things-to-do-in-tunisia/',\n",
        "        'http://en.wikipedia.org/wiki/Tataouine',\n",
        "        'http://en.wikipedia.org/wiki/Carthage',\n",
        "        'http://en.wikipedia.org/wiki/Hannibal'\n",
        "        ]\n",
        "\n",
        "\n",
        "def load_url(x):\n",
        "    with urllib.request.urlopen(urls[x], timeout=20) as conn:\n",
        "        return conn.read()\n",
        "\n",
        "\n",
        "n_jobs = len(urls)\n",
        "\n",
        "\n",
        "marker = time.time()\n",
        "for i in range(n_jobs): load_url(i)\n",
        "print(\"Time take by Serial execution: \", time.time() - marker)\n",
        "\n",
        "\n",
        "for n_threads in [4, 8, 16]:\n",
        "    marker = time.time()\n",
        "    multithreading(load_url, range(n_jobs), n_threads)\n",
        "    print(f\"Time taken by Multithreading with {n_threads} threads: {time.time() - marker}\")"
      ]
    },
    {
      "cell_type": "markdown",
      "metadata": {
        "id": "b7t2hYhRn-zo"
      },
      "source": [
        "Now as you can see, with number of threads increasing, the time taken for IO tasks has reduced significantly.\n",
        "\n",
        "Notice we have we have gained a significant speedup with multithreading in comparaison to serial! Note also that the more threads you have, the faster your execution. Of course there is no point of having more threads than the number of urls, this is why we stopped at 16 threads for 16 urls."
      ]
    },
    {
      "cell_type": "markdown",
      "metadata": {
        "id": "EbIVYVO0n-zr"
      },
      "source": [
        "# When to use Multithreading and Multiprocessing?"
      ]
    },
    {
      "cell_type": "markdown",
      "metadata": {
        "id": "8YWI3_Vsn-zs"
      },
      "source": [
        "* **Processes** speed up Python operations that are CPU intensive because they benefit from multiple cores and avoid the GIL. So **in CPU intensive tasks, Multiprocessing is recommended.**\n",
        "* **Threads** are best for IO tasks or tasks involving external systems because threads can combine their work more efficiently. Processes need to pickle their results to combine them which takes time. Threads provide no benefit in python for CPU intensive tasks because of the GIL. Thus **for IO tasks using Multithreading would be a good choice.**"
      ]
    },
    {
      "cell_type": "markdown",
      "metadata": {
        "id": "0wT5lqQYn-zt"
      },
      "source": [
        "# Conclusion"
      ]
    },
    {
      "cell_type": "markdown",
      "metadata": {
        "id": "3_IG0XLwn-zu"
      },
      "source": [
        "* There can only be one thread running at any given time in a python process.\n",
        "* Multiprocessing is parallelism. Multithreading is concurrency.\n",
        "* Multiprocessing is for increasing speed. Multithreading is for hiding latency.\n",
        "* Multiprocessing is best for computations. Multithreading is best for IO.\n",
        "* If you have CPU heavy tasks, use multiprocessing with n_process = n_cores and never more. Never!\n",
        "* If you have IO heavy tasks, use multithreading with n_threads = m * n_cores with m a number bigger than 1 that you can tweak."
      ]
    },
    {
      "cell_type": "markdown",
      "metadata": {
        "id": "oAgQlGadoOxx"
      },
      "source": [
        "# References"
      ]
    },
    {
      "cell_type": "markdown",
      "metadata": {
        "id": "58eF5NIhn-zv"
      },
      "source": [
        "* [Multithreading VS Multiprocessing in Python](https://medium.com/contentsquare-engineering-blog/multithreading-vs-multiprocessing-in-python-ece023ad55a)\n",
        "* [What is the Python Global Interpreter Lock](https://realpython.com/python-gil)\n",
        "* [Intro to Threads and Processes in Python](https://medium.com/@bfortuner/python-multithreading-vs-multiprocessing-73072ce5600b)"
      ]
    }
  ],
  "metadata": {
    "colab": {
      "collapsed_sections": [
        "xPfZmlgJoCF5",
        "Uj6TgR6En-zJ",
        "ZvebR1c4n-zU",
        "8FP-kKsFn-zh",
        "EbIVYVO0n-zr",
        "0wT5lqQYn-zt"
      ],
      "provenance": []
    },
    "kernelspec": {
      "display_name": "Python 3.9.1 64-bit",
      "language": "python",
      "name": "python3"
    },
    "language_info": {
      "codemirror_mode": {
        "name": "ipython",
        "version": 3
      },
      "file_extension": ".py",
      "mimetype": "text/x-python",
      "name": "python",
      "nbconvert_exporter": "python",
      "pygments_lexer": "ipython3",
      "version": "3.9.1"
    },
    "vscode": {
      "interpreter": {
        "hash": "a6d9e1e5af314454664958de1462b508bf7f71cd8eaaa039f9b58889150d096a"
      }
    }
  },
  "nbformat": 4,
  "nbformat_minor": 0
}
